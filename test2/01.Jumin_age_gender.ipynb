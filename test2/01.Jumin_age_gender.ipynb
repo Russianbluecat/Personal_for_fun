{
 "cells": [
  {
   "cell_type": "markdown",
   "metadata": {},
   "source": [
    "* 주민등록번호 리스트(ID Numebr List) 엑셀 파일 형태로 있음 \n",
    "* 현 시점 기준으로 나이 + 성별 추출하여 기존 엑셀파일에 추가 "
   ]
  },
  {
   "cell_type": "code",
   "execution_count": 14,
   "metadata": {},
   "outputs": [],
   "source": [
    "#import \n",
    "\n",
    "import pandas as pd \n",
    "import datetime\n",
    "\n",
    "#함수 만들기 \n",
    "\n",
    "def extract_age_gender(input_file, output_file, reference_date):\n",
    "    #엑셀 파일 읽기\n",
    "    df = pd.read_excel(input_file)\n",
    "\n",
    "    ages = []\n",
    "    genders = []\n",
    "    \n",
    "    for i in df['Jumin']: # Jumin 컬럼에 있는 값들에 대해..(주민등록번호 / 앞 생년월일 6자리 - 뒤 고유번호 7자리)\n",
    "        \n",
    "        birth_date_str,unique_number = i.split('-') #split 해서 각각 컬럼을 birth_date_str, unique_number로 해보자 \n",
    "        \n",
    "        #나이를 구해야 하면 일단 연도를 알아야 하잖아? 경우에 따라 19, 20 을 앞에 붙여줌 \n",
    "        if unique_number[0] in ['1','2']: \n",
    "            year_pre ='19'\n",
    "        elif unique_number[0] in ['3','4']:\n",
    "            year_pre = '20'\n",
    "\n",
    "        #만 나이 구하기 위한 생년월일 가공 \n",
    "        \n",
    "        birth_year = int(year_pre + birth_date_str[:2])\n",
    "        birth_month = int(birth_date_str[2:4])\n",
    "        birth_day = int(birth_date_str[4:6])\n",
    "        \n",
    "        birth_date = datetime.datetime(birth_year,birth_month,birth_day)\n",
    "        \n",
    "        #만 나이 구하기 \n",
    "        \n",
    "        age = reference_date.year - birth_date.year - ((reference_date.month, reference_date.day) < (birth_date.month, birth_date.day)) \n",
    "        \n",
    "        #성별 구하기 \n",
    "        \n",
    "        if unique_number[0] in ['2','4'] : \n",
    "            gender = 'Female'\n",
    "        elif unique_number[0] in ['1','3']:\n",
    "            gender = 'Male'\n",
    "        \n",
    "        ages.append(age)\n",
    "        genders.append(gender)\n",
    "        \n",
    "    #컬럼 추가 \n",
    "    df['age'] = ages\n",
    "    df['gender'] = genders\n",
    "    \n",
    "        # 새로운 엑셀 파일로 저장\n",
    "    df.to_excel(output_file, index=False)\n",
    "        \n",
    "input_file='Jumin_List.xlsx'\n",
    "output_file = 'Jumin_List_with_age_gender.xlsx'\n",
    "reference_date =datetime.datetime(2024,7,28)\n",
    "\n",
    "extract_age_gender(input_file,output_file,reference_date)\n"
   ]
  }
 ],
 "metadata": {
  "kernelspec": {
   "display_name": "Python 3",
   "language": "python",
   "name": "python3"
  },
  "language_info": {
   "codemirror_mode": {
    "name": "ipython",
    "version": 3
   },
   "file_extension": ".py",
   "mimetype": "text/x-python",
   "name": "python",
   "nbconvert_exporter": "python",
   "pygments_lexer": "ipython3",
   "version": "3.12.2"
  }
 },
 "nbformat": 4,
 "nbformat_minor": 2
}
